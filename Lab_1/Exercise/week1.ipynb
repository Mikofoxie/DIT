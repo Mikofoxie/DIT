{
 "cells": [
  {
   "cell_type": "code",
   "execution_count": 9,
   "id": "362ed7fc",
   "metadata": {},
   "outputs": [
    {
     "name": "stdout",
     "output_type": "stream",
     "text": [
      "Đã lưu 3 ảnh với 3 màu khác nhau.\n"
     ]
    }
   ],
   "source": [
    "# Bài 1: Viết chương trình nạp 1 ảnh và lưu thành 3 ảnh với 3 màu khác nhau\n",
    "import numpy as np\n",
    "import os\n",
    "import cv2\n",
    "\n",
    "os.makedirs('output_img', exist_ok=True)\n",
    "\n",
    "img = cv2.imread('../bird.png')\n",
    "\n",
    "b, g, r = cv2.split(img)\n",
    "\n",
    "zero = np.zeros_like(b)\n",
    "\n",
    "red_img = cv2.merge([zero, zero, r])\n",
    "cv2.imwrite('output_img/red_image.png', red_img)\n",
    "\n",
    "green_img = cv2.merge([zero, g, zero])\n",
    "cv2.imwrite('output_img/green_image.png', green_img)\n",
    "\n",
    "blue_img = cv2.merge([b, zero, zero])\n",
    "cv2.imwrite('output_img/blue_image.png', blue_img)\n",
    "\n",
    "print(\"Đã lưu 3 ảnh với 3 màu khác nhau.\")"
   ]
  },
  {
   "cell_type": "code",
   "execution_count": 10,
   "id": "8d2bbed5",
   "metadata": {},
   "outputs": [
    {
     "name": "stdout",
     "output_type": "stream",
     "text": [
      "Đã hoán đổi màu và lưu ảnh.\n"
     ]
    }
   ],
   "source": [
    "# Bài 2: Viết chương trình nạp một ảnh và hoán đổi giá trị các màu. Lưu các ảnh vào máy\n",
    "\n",
    "import cv2\n",
    "import os\n",
    "\n",
    "os.makedirs('output_swapped_colors', exist_ok=True)\n",
    "\n",
    "img = cv2.imread('../bird.png') \n",
    "\n",
    "rg_img = img.copy()\n",
    "rg_img[:, :, [1, 2]] = rg_img[:, :, [2, 1]] \n",
    "cv2.imwrite('output_swapped_colors/swap_rg.png', rg_img)\n",
    "\n",
    "gb_img = img.copy()\n",
    "gb_img[:, :, [0, 1]] = gb_img[:, :, [1, 0]] \n",
    "cv2.imwrite('output_swapped_colors/swap_gb.png', gb_img)\n",
    "\n",
    "br_img = img.copy()\n",
    "br_img[:, :, [0, 2]] = br_img[:, :, [2, 0]] \n",
    "cv2.imwrite('output_swapped_colors/swap_br.png', br_img)\n",
    "\n",
    "print(\"Đã hoán đổi màu và lưu ảnh.\")"
   ]
  },
  {
   "cell_type": "code",
   "execution_count": 11,
   "id": "0b672c56",
   "metadata": {},
   "outputs": [
    {
     "name": "stdout",
     "output_type": "stream",
     "text": [
      "Đã lưu 3 ảnh theo kênh H, S, V.\n"
     ]
    }
   ],
   "source": [
    "# Bài 3: Viết chương trình nạp một ảnh, chuyển thành hệ màu HSV và lưu 3 ảnh với 3 màu khác nhau.\n",
    "\n",
    "import cv2\n",
    "import os\n",
    "import numpy as np\n",
    "\n",
    "os.makedirs('output_hsv_images', exist_ok=True)\n",
    "\n",
    "\n",
    "img = cv2.imread('../bird.png')\n",
    "\n",
    "# Chuyển sang hệ màu HSV\n",
    "hsv_img = cv2.cvtColor(img, cv2.COLOR_BGR2HSV)\n",
    "\n",
    "# Tách 3 kênh: H (Hue), S (Saturation), V (Value)\n",
    "h, s, v = cv2.split(hsv_img)\n",
    "\n",
    "# Tạo ảnh hiển thị từng kênh với màu dễ quan sát\n",
    "# Chuyển từ HSV đơn kênh sang ảnh màu để lưu lại\n",
    "# Hue ảnh: giữ kênh H, đặt S và V ở giá trị tối đa\n",
    "hue_img = cv2.cvtColor(cv2.merge([h, 255 * np.ones_like(s), 255 * np.ones_like(v)]), cv2.COLOR_HSV2BGR)\n",
    "cv2.imwrite('output_hsv_images/hue_channel.png', hue_img)\n",
    "\n",
    "# Saturation ảnh: giữ kênh S, đặt H và V cố định\n",
    "sat_img = cv2.cvtColor(cv2.merge([90 * np.ones_like(h), s, 255 * np.ones_like(v)]), cv2.COLOR_HSV2BGR)\n",
    "cv2.imwrite('output_hsv_images/saturation_channel.png', sat_img)\n",
    "\n",
    "# Value ảnh: giữ kênh V, đặt H và S cố định\n",
    "val_img = cv2.cvtColor(cv2.merge([90 * np.ones_like(h), 255 * np.ones_like(s), v]), cv2.COLOR_HSV2BGR)\n",
    "cv2.imwrite('output_hsv_images/value_channel.png', val_img)\n",
    "\n",
    "print(\"Đã lưu 3 ảnh theo kênh H, S, V.\")\n"
   ]
  },
  {
   "cell_type": "code",
   "execution_count": 12,
   "id": "274f0fb3",
   "metadata": {},
   "outputs": [
    {
     "name": "stdout",
     "output_type": "stream",
     "text": [
      "Đã lưu ảnh với H_new = 1/3 * H và V_new = 3/4 * V.\n"
     ]
    }
   ],
   "source": [
    "# Bài 4: Viết chương trình nạp một ảnh, chuyển sang hệ màu HSV. Lưu ảnh mới với kênh Hnew = 1/3 Hold, Vnew = 3/4 Vold\n",
    "\n",
    "import cv2\n",
    "import numpy as np\n",
    "import os\n",
    "\n",
    "\n",
    "os.makedirs('output_modified_hsv', exist_ok=True)\n",
    "\n",
    "\n",
    "img = cv2.imread('../bird.png')\n",
    "\n",
    "# Chuyển ảnh sang hệ màu HSV\n",
    "hsv_img = cv2.cvtColor(img, cv2.COLOR_BGR2HSV)\n",
    "\n",
    "# Tách các kênh H, S, V\n",
    "h, s, v = cv2.split(hsv_img)\n",
    "\n",
    "# Áp dụng biến đổi theo đề bài\n",
    "# H (Hue) trong OpenCV nằm trong khoảng 0-179\n",
    "# => cần đảm bảo sau khi chia 3 vẫn nằm trong khoảng 0-179\n",
    "h_new = np.clip((h / 3), 0, 179).astype(np.uint8)\n",
    "v_new = np.clip((v * 0.75), 0, 255).astype(np.uint8)\n",
    "\n",
    "# Gộp lại các kênh đã chỉnh sửa với S giữ nguyên\n",
    "hsv_modified = cv2.merge([h_new, s, v_new])\n",
    "\n",
    "# Chuyển lại sang ảnh RGB (hoặc BGR) để lưu\n",
    "result_img = cv2.cvtColor(hsv_modified, cv2.COLOR_HSV2BGR)\n",
    "\n",
    "# Lưu ảnh kết quả\n",
    "cv2.imwrite('output_modified_hsv/modified_hsv_image.png', result_img)\n",
    "\n",
    "print(\"Đã lưu ảnh với H_new = 1/3 * H và V_new = 3/4 * V.\")\n"
   ]
  },
  {
   "cell_type": "code",
   "execution_count": null,
   "id": "deed3491",
   "metadata": {},
   "outputs": [
    {
     "name": "stdout",
     "output_type": "stream",
     "text": [
      "Đã xử lý: ./output_hsv_images\\hue_channel.png → Exercise_mean_filtered\\output_hsv_images\\mean_hue_channel.png\n",
      "Đã xử lý: ./output_hsv_images\\saturation_channel.png → Exercise_mean_filtered\\output_hsv_images\\mean_saturation_channel.png\n",
      "Đã xử lý: ./output_hsv_images\\value_channel.png → Exercise_mean_filtered\\output_hsv_images\\mean_value_channel.png\n",
      "Đã xử lý: ./output_img\\blue_image.png → Exercise_mean_filtered\\output_img\\mean_blue_image.png\n",
      "Đã xử lý: ./output_img\\green_image.png → Exercise_mean_filtered\\output_img\\mean_green_image.png\n",
      "Đã xử lý: ./output_img\\red_image.png → Exercise_mean_filtered\\output_img\\mean_red_image.png\n",
      "Đã xử lý: ./output_modified_hsv\\modified_hsv_image.png → Exercise_mean_filtered\\output_modified_hsv\\mean_modified_hsv_image.png\n",
      "Đã xử lý: ./output_swapped_colors\\swap_br.png → Exercise_mean_filtered\\output_swapped_colors\\mean_swap_br.png\n",
      "Đã xử lý: ./output_swapped_colors\\swap_gb.png → Exercise_mean_filtered\\output_swapped_colors\\mean_swap_gb.png\n",
      "Đã xử lý: ./output_swapped_colors\\swap_rg.png → Exercise_mean_filtered\\output_swapped_colors\\mean_swap_rg.png\n",
      "Đã xử lý xong tất cả ảnh trong Exercise và các folder con rồi đó\n"
     ]
    }
   ],
   "source": [
    "# Bài 5: Sử dụng mean filter cho mọi ảnh trong thư mục Exercise và các thư mục con\n",
    "\n",
    "import cv2\n",
    "import os\n",
    "\n",
    "\n",
    "input_root = './'  \n",
    "output_root = 'Exercise_mean_filtered'\n",
    "os.makedirs(output_root, exist_ok=True)\n",
    "\n",
    "kernel_size = (5, 5)\n",
    "\n",
    "# Duyệt tất cả thư mục và file con với os.walk\n",
    "for root, dirs, files in os.walk(input_root):\n",
    "    for filename in files:\n",
    "        if filename.lower().endswith(('.png', '.jpg', '.jpeg', '.bmp')):\n",
    "            input_path = os.path.join(root, filename)\n",
    "            img = cv2.imread(input_path)\n",
    "\n",
    "            if img is None:\n",
    "                print(f\"Không đọc được ảnh: {input_path}\")\n",
    "                continue\n",
    "\n",
    "            # Áp dụng mean filter\n",
    "            mean_filtered = cv2.blur(img, kernel_size)\n",
    "\n",
    "            # Tạo đường dẫn thư mục con tương ứng trong thư mục output\n",
    "            relative_path = os.path.relpath(root, input_root)\n",
    "            output_dir = os.path.join(output_root, relative_path)\n",
    "            os.makedirs(output_dir, exist_ok=True)\n",
    "\n",
    "            # Tạo đường dẫn ảnh đầu ra\n",
    "            output_path = os.path.join(output_dir, f'mean_{filename}')\n",
    "            cv2.imwrite(output_path, mean_filtered)\n",
    "\n",
    "            print(f\"Đã xử lý: {input_path} → {output_path}\")\n",
    "\n",
    "print(\"Đã xử lý xong tất cả ảnh\")\n"
   ]
  }
 ],
 "metadata": {
  "kernelspec": {
   "display_name": "Python 3",
   "language": "python",
   "name": "python3"
  },
  "language_info": {
   "codemirror_mode": {
    "name": "ipython",
    "version": 3
   },
   "file_extension": ".py",
   "mimetype": "text/x-python",
   "name": "python",
   "nbconvert_exporter": "python",
   "pygments_lexer": "ipython3",
   "version": "3.11.9"
  }
 },
 "nbformat": 4,
 "nbformat_minor": 5
}
